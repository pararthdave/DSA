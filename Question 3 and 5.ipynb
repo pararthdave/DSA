{
 "cells": [
  {
   "cell_type": "markdown",
   "metadata": {},
   "source": [
    "# Question 3"
   ]
  },
  {
   "cell_type": "markdown",
   "metadata": {},
   "source": [
    "(a) Finding max and min elements in a list"
   ]
  },
  {
   "cell_type": "code",
   "execution_count": 30,
   "metadata": {},
   "outputs": [
    {
     "name": "stdout",
     "output_type": "stream",
     "text": [
      "Maximum element in the list is:  378\n",
      "Minimum element in the list is:  67\n",
      "\n",
      "Maximum number is:  378\n",
      "Minimum number is:  67\n"
     ]
    }
   ],
   "source": [
    "#using inbuilt function\n",
    "list1=[261,157,89,143,67,90,135,78,99,378]\n",
    "max_list1=max(list1)\n",
    "min_list1=min(list1)\n",
    "\n",
    "print(\"Maximum element in the list is: \",max_list1)\n",
    "print(\"Minimum element in the list is: \",min_list1)\n",
    "\n",
    "\n",
    "#without using inbuilt function\n",
    "def Maximum(x):\n",
    "    max_num = x[0]\n",
    "    for num in x:\n",
    "        if max_num < num:\n",
    "            max_num = num\n",
    "    return max_num\n",
    "print(\"\\nMaximum number is: \",Maximum(list1))\n",
    "\n",
    "def Minimum(y):\n",
    "    min_num= y[0]\n",
    "    for num in y:\n",
    "        if min_num > num:\n",
    "            min_num = num\n",
    "    return min_num\n",
    "print(\"Minimum number is: \",Minimum(list1))"
   ]
  },
  {
   "cell_type": "markdown",
   "metadata": {},
   "source": [
    "(b) Finding an element of a given rank in a list (using partition)"
   ]
  },
  {
   "cell_type": "code",
   "execution_count": 1,
   "metadata": {},
   "outputs": [
    {
     "name": "stdout",
     "output_type": "stream",
     "text": [
      "[9.0, 8.0, 3.0, 7.0, 1.0, 4.0, 6.0, 2.0, 5.0, 10.0]\n",
      "Enter a rank from above list to find number correspoding to it: 9\n",
      "The number c orresponding to given rank is:  261\n"
     ]
    }
   ],
   "source": [
    "def rank(A): \n",
    "    R = [0 for x in range(len(A))] \n",
    "    for i in range(len(A)): \n",
    "        (r,s) = (1,1) \n",
    "        for j in range(len(A)): \n",
    "            if j!= i and A[j] < A[i]: \n",
    "                r += 1\n",
    "            if j != i and A[j] == A[i]: \n",
    "                s += 1\n",
    "            R[i] = r + (s - 1) / 2\n",
    "    return R \n",
    "\n",
    "A = [261,157,89,143,67,90,135,78,99,378]\n",
    "B = rank(A)\n",
    "print(B)\n",
    "n = float(input(\"Enter a rank from above list to find number correspoding to it: \"))\n",
    "for i in range(len(B)):\n",
    "    if B[i] == n:\n",
    "        print('The number c orresponding to given rank is: ',A[i])\n",
    "        break"
   ]
  },
  {
   "cell_type": "markdown",
   "metadata": {},
   "source": [
    "(c) Finding the rank of a given item in a list"
   ]
  },
  {
   "cell_type": "code",
   "execution_count": 2,
   "metadata": {},
   "outputs": [
    {
     "name": "stdout",
     "output_type": "stream",
     "text": [
      "Rank of element in given list is:  7\n"
     ]
    }
   ],
   "source": [
    "def rank_list(lst,num):\n",
    "    rank=0\n",
    "    buff=[]\n",
    "    fleg=False\n",
    "    for i in range(len(lst)):\n",
    "        if lst[i]==num:\n",
    "            fleg=True\n",
    "            break\n",
    "    if fleg:\n",
    "        for i in lst:            \n",
    "            if (i<num) and (i not in buff):\n",
    "                rank+=1\n",
    "                buff.append(i)\n",
    "    else:\n",
    "        return \"Item not found in given list!\"\n",
    "    return rank+1\n",
    "A=[261,157,89,143,67,90,135,78,99,378]\n",
    "target=143\n",
    "print(\"Rank of element in given list is: \",rank_list(A,target))"
   ]
  },
  {
   "cell_type": "markdown",
   "metadata": {},
   "source": [
    "# Question 5"
   ]
  },
  {
   "cell_type": "markdown",
   "metadata": {},
   "source": [
    "Priority queue operations:"
   ]
  },
  {
   "cell_type": "code",
   "execution_count": 4,
   "metadata": {},
   "outputs": [],
   "source": [
    "class Node:\n",
    "  \n",
    "  def __init__(self, info, priority):\n",
    "    self.info = info\n",
    "    self.priority = priority\n",
    "\n",
    "class PriorityQueue:\n",
    "    \n",
    "  \n",
    "    def __init__(self):\n",
    "        self.queue = list()\n",
    "    # if you want you can set a maximum size for the queue\n",
    "    \n",
    "    def insert(self, node):\n",
    "        \n",
    "        if self.size() == 0:\n",
    "            self.queue.append(node)\n",
    "            \n",
    "        else:\n",
    "            #print(\"Inside\")\n",
    "            for x in range(0, self.size()):\n",
    "                if node.priority >= self.queue[x].priority:\n",
    "                    if x == (self.size()-1):\n",
    "                        self.queue.insert(x+1, node)\n",
    "\n",
    "                    else: \n",
    "                        pass\n",
    "                else:\n",
    "                    self.queue.insert(x,node)\n",
    "                    return True\n",
    "            \n",
    "    def show(self):\n",
    "        for x in self.queue:\n",
    "            #print(\"Inside\")\n",
    "            print(str(x.info)+\" - \"+str(x.priority))\n",
    "            #print (str(x.info)+\" - \"+str(x.priority))\n",
    "  \n",
    "    def size(self):\n",
    "        return len(self.queue)\n",
    "    \n",
    "    def delete(self):\n",
    "        return self.queue.pop(0)\n",
    "    \n",
    "    def extractMin(self):\n",
    "        temp = 0\n",
    "        for i in range(0, self.size()):\n",
    "            if self.queue[temp].info > self.queue[i].info:\n",
    "                temp = i\n",
    "            else:\n",
    "                pass\n",
    "        print(\"Minimum element is\", self.queue[temp])\n",
    "        del self.queue[temp]\n",
    "        return self.queue"
   ]
  },
  {
   "cell_type": "markdown",
   "metadata": {},
   "source": [
    "(a) Delete\n",
    "(b) Inserrt"
   ]
  },
  {
   "cell_type": "code",
   "execution_count": 5,
   "metadata": {},
   "outputs": [
    {
     "data": {
      "text/plain": [
       "True"
      ]
     },
     "execution_count": 5,
     "metadata": {},
     "output_type": "execute_result"
    }
   ],
   "source": [
    "p = PriorityQueue()\n",
    "node1 = Node(10, 3)\n",
    "node2 = Node(22, 2)\n",
    "node3 = Node(3, 1)\n",
    "node4 = Node(12, 26)\n",
    "node5 = Node(14, 25)\n",
    "node6 = Node(20, 12)\n",
    "\n",
    "p.insert(node1)\n",
    "p.insert(node2)\n",
    "p.insert(node3)\n",
    "p.insert(node4)\n",
    "p.insert(node5)\n",
    "p.insert(node6)"
   ]
  },
  {
   "cell_type": "code",
   "execution_count": 6,
   "metadata": {},
   "outputs": [
    {
     "name": "stdout",
     "output_type": "stream",
     "text": [
      "3 - 1\n",
      "22 - 2\n",
      "10 - 3\n",
      "20 - 12\n",
      "14 - 25\n",
      "12 - 26\n"
     ]
    }
   ],
   "source": [
    "p.show()"
   ]
  },
  {
   "cell_type": "code",
   "execution_count": 10,
   "metadata": {},
   "outputs": [
    {
     "data": {
      "text/plain": [
       "<__main__.Node at 0x1d457a551c0>"
      ]
     },
     "execution_count": 10,
     "metadata": {},
     "output_type": "execute_result"
    }
   ],
   "source": [
    "p.delete()"
   ]
  },
  {
   "cell_type": "code",
   "execution_count": 12,
   "metadata": {},
   "outputs": [
    {
     "name": "stdout",
     "output_type": "stream",
     "text": [
      "22 - 2\n",
      "10 - 3\n",
      "20 - 12\n",
      "14 - 25\n",
      "12 - 26\n"
     ]
    }
   ],
   "source": [
    "p.show()"
   ]
  },
  {
   "cell_type": "markdown",
   "metadata": {},
   "source": [
    "(c) Extract Min\n",
    "(d) Heap Key increase/decrease"
   ]
  },
  {
   "cell_type": "code",
   "execution_count": 16,
   "metadata": {},
   "outputs": [],
   "source": [
    "def buildHeap(A):\n",
    "    l = len(A)//2\n",
    "    for i in range(l, -1, -1):         # makes n calls (worst case scenario)\n",
    "        heapifyMin(A, i)                  \n",
    "        #print(i)\n",
    "    return A\n",
    "\n",
    "def heapifyMin(A, i):\n",
    "    smallest = i\n",
    "    lc = 2*i+1\n",
    "    rc = 2*i+2\n",
    "\n",
    "    if lc < len(A) and A[smallest] > A[lc]:\n",
    "        smallest = lc\n",
    "\n",
    "    if rc < len(A) and A[smallest] > A[rc]:\n",
    "        smallest = rc\n",
    "\n",
    "    if smallest != i:\n",
    "        A[i], A[smallest] = A[smallest], A[i]\n",
    "        heapifyMin(A, smallest)\n",
    "        \n",
    "def insert(A, value):\n",
    "    A.append(value)\n",
    "    arr = buildHeap(A)\n",
    "    return arr\n",
    "\n",
    "def delete(A):\n",
    "    A.pop(0)\n",
    "    n = buildHeap(A)\n",
    "    return A\n",
    "        \n",
    "def extractMin(A):\n",
    "    x = A.pop(0)\n",
    "    print(x)\n",
    "    new = buildHeap(A)\n",
    "    return new\n",
    "\n",
    "def increaseKey(A, old, new):\n",
    "    if new < old:\n",
    "        return False\n",
    "    change = False\n",
    "    for i in range(0, len(A)):\n",
    "        if A[i] == old:\n",
    "            change = True\n",
    "            pIndex = i\n",
    "        else:\n",
    "            pass\n",
    "    if change:\n",
    "        A[pIndex] = new\n",
    "        n = buildHeap(A)\n",
    "        return n\n",
    "    else:\n",
    "        print(\"Not present in data structure\")\n",
    "        return False\n",
    "\n",
    "def decreaseKey(A, old, new):\n",
    "    if new > old:\n",
    "        return False\n",
    "\n",
    "    change = False\n",
    "    for i in range(0, len(A)):\n",
    "        if A[i] == old:\n",
    "            change = True\n",
    "            pIndex = i\n",
    "        else:\n",
    "            pass\n",
    "    if change:\n",
    "        A[pIndex] = new\n",
    "        n = buildHeap(A)\n",
    "        return n\n",
    "    else:\n",
    "        print(\"Not present in data structure\")\n",
    "        return False"
   ]
  },
  {
   "cell_type": "code",
   "execution_count": 17,
   "metadata": {},
   "outputs": [
    {
     "name": "stdout",
     "output_type": "stream",
     "text": [
      "[1, 2, 6, 4, 3, 7, 9, 11, 12, 5]\n",
      "[1, 2, 6, 4, 3, 7, 9, 11, 10, 5]\n"
     ]
    }
   ],
   "source": [
    "A = [4,2,6,1,5,7,9,11,12,3]\n",
    "minH = buildHeap(A)\n",
    "#extractMin(minH)\n",
    "print(minH)\n",
    "print(decreaseKey(minH,12,10))"
   ]
  },
  {
   "cell_type": "code",
   "execution_count": 18,
   "metadata": {},
   "outputs": [
    {
     "data": {
      "text/plain": [
       "[1, 2, 6, 4, 3, 7, 9, 11, 10, 5, 17]"
      ]
     },
     "execution_count": 18,
     "metadata": {},
     "output_type": "execute_result"
    }
   ],
   "source": [
    "insert(A, 17)"
   ]
  },
  {
   "cell_type": "code",
   "execution_count": 19,
   "metadata": {},
   "outputs": [
    {
     "data": {
      "text/plain": [
       "[2, 3, 4, 5, 7, 9, 11, 10, 6, 17]"
      ]
     },
     "execution_count": 19,
     "metadata": {},
     "output_type": "execute_result"
    }
   ],
   "source": [
    "delete(A)"
   ]
  }
 ],
 "metadata": {
  "kernelspec": {
   "display_name": "Python 3",
   "language": "python",
   "name": "python3"
  },
  "language_info": {
   "codemirror_mode": {
    "name": "ipython",
    "version": 3
   },
   "file_extension": ".py",
   "mimetype": "text/x-python",
   "name": "python",
   "nbconvert_exporter": "python",
   "pygments_lexer": "ipython3",
   "version": "3.8.5"
  }
 },
 "nbformat": 4,
 "nbformat_minor": 4
}
