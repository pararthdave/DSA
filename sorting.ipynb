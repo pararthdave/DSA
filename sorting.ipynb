{
 "cells": [
  {
   "cell_type": "code",
   "execution_count": 3,
   "metadata": {
    "scrolled": true
   },
   "outputs": [
    {
     "name": "stdout",
     "output_type": "stream",
     "text": [
      "no. of elements6\n",
      "elements23\n",
      "elements87\n",
      "elements43\n",
      "elements23\n",
      "elements89\n",
      "elements12\n",
      "[23, 87, 43, 23, 89, 12]\n"
     ]
    }
   ],
   "source": [
    "n=int(input(\"no. of elements\"))\n",
    "list1=[int(input(\"elements\")) for x in range(n)]\n",
    "print(list1)"
   ]
  },
  {
   "cell_type": "markdown",
   "metadata": {},
   "source": [
    "# SELECTION SORT"
   ]
  },
  {
   "cell_type": "code",
   "execution_count": 4,
   "metadata": {},
   "outputs": [
    {
     "name": "stdout",
     "output_type": "stream",
     "text": [
      "[12, 87, 43, 23, 89, 23]\n",
      "[12, 23, 43, 87, 89, 23]\n",
      "[12, 23, 23, 87, 89, 43]\n",
      "[12, 23, 23, 43, 89, 87]\n",
      "[12, 23, 23, 43, 87, 89]\n"
     ]
    }
   ],
   "source": [
    "for i in range(len(list1)-1):\n",
    "    min_ele=list1[i]\n",
    "    min_ind=i\n",
    "    for j in range(i,len(list1)):\n",
    "        if list1[j]<min_ele:\n",
    "            min_ind=j\n",
    "            min_ele=list1[j]\n",
    "    list1[i],list1[min_ind]=list1[min_ind],list1[i]\n",
    "    print(list1)"
   ]
  },
  {
   "cell_type": "markdown",
   "metadata": {},
   "source": [
    "# INSERTION SORT"
   ]
  },
  {
   "cell_type": "code",
   "execution_count": 8,
   "metadata": {},
   "outputs": [
    {
     "name": "stdout",
     "output_type": "stream",
     "text": [
      "[6, 12, 12, 23, 34]\n"
     ]
    }
   ],
   "source": [
    "def insertionsort(my_list):\n",
    "    for index in range(1,len(my_list)):\n",
    "        current_element=my_list[index]\n",
    "        pos=index\n",
    "        while current_element<my_list[pos-1]and pos>0:\n",
    "            my_list[pos]=my_list[pos-1]\n",
    "            pos=pos-1\n",
    "        my_list[pos]=current_element\n",
    "insertionsort(list1)\n",
    "print(list1)"
   ]
  },
  {
   "cell_type": "markdown",
   "metadata": {},
   "source": [
    "# BUBBLE SORT"
   ]
  },
  {
   "cell_type": "code",
   "execution_count": 9,
   "metadata": {},
   "outputs": [
    {
     "name": "stdout",
     "output_type": "stream",
     "text": [
      "[6, 12, 12, 23, 34]\n",
      "[6, 12, 12, 23, 34]\n",
      "[6, 12, 12, 23, 34]\n",
      "[6, 12, 12, 23, 34]\n",
      "\n",
      "[6, 12, 12, 23, 34]\n",
      "[6, 12, 12, 23, 34]\n",
      "[6, 12, 12, 23, 34]\n",
      "\n",
      "[6, 12, 12, 23, 34]\n",
      "[6, 12, 12, 23, 34]\n",
      "\n",
      "[6, 12, 12, 23, 34]\n",
      "\n",
      "sorted list is [6, 12, 12, 23, 34]\n"
     ]
    }
   ],
   "source": [
    "for j in range(len(list1)-1):\n",
    "    for i in range(len(list1)-1-j):\n",
    "        if list1[i]>list1[i+1]:\n",
    "            list1[i],list1[i+1]=list1[i+1],list1[i]\n",
    "            print(list1)\n",
    "        else:\n",
    "            print(list1)\n",
    "    print()\n",
    "print(\"sorted list is\",list1)        "
   ]
  },
  {
   "cell_type": "markdown",
   "metadata": {},
   "source": [
    "# QUICK SORT"
   ]
  },
  {
   "cell_type": "code",
   "execution_count": 2,
   "metadata": {},
   "outputs": [
    {
     "name": "stdout",
     "output_type": "stream",
     "text": [
      "[4, 12, 23, 65, 87, 98]\n"
     ]
    }
   ],
   "source": [
    "def pivot_place(list1,first,last):\n",
    "    pivot=list1[last]\n",
    "    left=first\n",
    "    right=last-1\n",
    "    while True:\n",
    "        while left<=right and list1[left]<=pivot:\n",
    "            left=left+1\n",
    "        while left<=right and list1[right]>=pivot:\n",
    "            right=right-1\n",
    "        if right<left:\n",
    "            break\n",
    "        else:\n",
    "            list1[left],list1[right]=list1[right],list1[left]\n",
    "    list1[last],list1[left]=list1[left],list1[last]\n",
    "    return left\n",
    "def quicksort(list1,first,last):\n",
    "    if first<last:\n",
    "        p=pivot_place(list1,first,last)\n",
    "        quicksort(list1,first,p-1)\n",
    "        quicksort(list1,p+1,last)\n",
    "list1=[23,65,98,12,4,87]\n",
    "n=len(list1)\n",
    "quicksort(list1,0,n-1)\n",
    "print(list1)"
   ]
  },
  {
   "cell_type": "markdown",
   "metadata": {},
   "source": [
    "# MERGE SORT"
   ]
  },
  {
   "cell_type": "code",
   "execution_count": 11,
   "metadata": {},
   "outputs": [
    {
     "name": "stdout",
     "output_type": "stream",
     "text": [
      "enter no of elements5\n",
      "enter elements12\n",
      "enter elements34\n",
      "enter elements6\n",
      "enter elements12\n",
      "enter elements60\n",
      "[6, 12, 12, 34, 60]\n"
     ]
    }
   ],
   "source": [
    " def mergesort(list1):\n",
    "    if len(list1)>1:\n",
    "        mid=len(list1)//2\n",
    "        left_list=list1[:mid]\n",
    "        right_list=list1[mid:]\n",
    "        mergesort(left_list)\n",
    "        mergesort(right_list)\n",
    "        i=0\n",
    "        j=0\n",
    "        k=0\n",
    "        while i<len(left_list) and j<len(right_list):\n",
    "            if left_list[i]<right_list[j]:\n",
    "                list1[k]=left_list[i]\n",
    "                i=i+1\n",
    "                k=k+1\n",
    "            else:\n",
    "                list1[k]=right_list[j]\n",
    "                j=j+1\n",
    "                k=k+1\n",
    "        while i<len(left_list):\n",
    "            list1[k]=left_list[i]\n",
    "            i=i+1\n",
    "            k=k+1\n",
    "        while j<len(right_list):\n",
    "            list1[k]=right_list[j]\n",
    "            j=j+1\n",
    "            k=k+1\n",
    "num=int(input(\"enter no of elements\"))\n",
    "list1=[int(input(\"enter elements\"))for x in range(num)]\n",
    "mergesort(list1)\n",
    "print(list1)"
   ]
  },
  {
   "cell_type": "markdown",
   "metadata": {},
   "source": [
    "# Counting sort"
   ]
  },
  {
   "cell_type": "code",
   "execution_count": 8,
   "metadata": {},
   "outputs": [],
   "source": [
    "def csort(a,k,n):\n",
    "    s=[]\n",
    "    c=[0 for i in range(n)]\n",
    "    b=[0 for i in range(k)]\n",
    "    \n",
    "    for j in range(0,n):\n",
    "        b[a[j]]+=1\n",
    "    for i in range(1,k):\n",
    "        b[i]+=b[i-1]\n",
    "    for j in range(n):\n",
    "        c[b[a[j]]-1]=a[j]\n",
    "        b[a[j]]-=1  \n",
    "   \n",
    "    return c\n"
   ]
  },
  {
   "cell_type": "markdown",
   "metadata": {},
   "source": [
    "# Radix sort"
   ]
  },
  {
   "cell_type": "code",
   "execution_count": 9,
   "metadata": {},
   "outputs": [
    {
     "name": "stdout",
     "output_type": "stream",
     "text": [
      "1589\n",
      "2123\n",
      "2240\n",
      "2780\n",
      "3751\n",
      "4851\n",
      "5164\n",
      "5546\n",
      "8738\n",
      "9796\n"
     ]
    }
   ],
   "source": [
    "def csort(a,k,n,ex):\n",
    "    s=[]\n",
    "    c=[0 for i in range(n)]\n",
    "    b=[0 for i in range(k)]\n",
    "    \n",
    "    for i in range(0,n):\n",
    "        ind=(a[i]/(ex))\n",
    "        b[int(ind%10)]+=1\n",
    "    for i in range(1,k):\n",
    "        b[i]+=b[i-1]\n",
    "    i=n-1\n",
    "    while i>=0:\n",
    "        ind=(a[i]/ex)\n",
    "        c[b[int(ind%10)]-1]=a[i]\n",
    "        b[int(ind%10)]-=1  \n",
    "        i-=1\n",
    "    i=0    \n",
    "    for i in range(0,n):\n",
    "        a[i]=c[i]\n",
    "   \n",
    "\n",
    "def radixsort(a,n,d,k):\n",
    "    ex=1\n",
    "    while (d/ex)>0:    #in increasing order of significant digit (R to L)\n",
    "        csort(a,k,n,ex) #sort based on value of digit i using a stable sort(like counting sort)\n",
    "        ex=ex*10\n",
    "        \n",
    "a=[3751, 1589, 9796, 2780, 5164, 2240, 8738, 5546, 2123, 4851]\n",
    "radixsort(a,len(a),max(a),10)\n",
    "for i in range(len(a)):\n",
    "    print(a[i])\n",
    "#O(d*(n+k))"
   ]
  },
  {
   "cell_type": "markdown",
   "metadata": {},
   "source": [
    "# Heap Sort"
   ]
  },
  {
   "cell_type": "code",
   "execution_count": 1,
   "metadata": {},
   "outputs": [
    {
     "name": "stdout",
     "output_type": "stream",
     "text": [
      "the max heap is: [67, 8, 23, 7, 8, 9, 2, 3, 2, 5]\n",
      "the sorted array is: [67, 23, 9, 7, 8, 8, 3, 5, 2, 2]\n"
     ]
    }
   ],
   "source": [
    "def heapify(A,i):\n",
    "    if ((2*i)+1)>(len(A)-1):\n",
    "        return A\n",
    "    elif ((2*i)+2)>(len(A)-1):\n",
    "        largest=(2*i)+1\n",
    "    elif A[(2*i)+1]>A[(2*i)+2]:\n",
    "        largest=(2*i)+1\n",
    "    else:\n",
    "        largest=(2*i)+2\n",
    "    if A[i]<A[largest]:\n",
    "        A[i],A[largest]=A[largest],A[i]\n",
    "        heapify(A,largest)\n",
    "    return A\n",
    "def build_heap(A):\n",
    "    n=len(A)\n",
    "    for i in range((n//2)-1,-1,-1):\n",
    "        heapify(A,i)\n",
    "    return A\n",
    "def heap_sort(A):\n",
    "    A=build_heap(A)\n",
    "    print(\"the max heap is:\",A)\n",
    "    lenA=len(A)-1\n",
    "    for i in range(len(A)-1):\n",
    "        A[lenA-1],A[0]=A[0],A[lenA-1]\n",
    "        lenA=lenA-1\n",
    "        A=heapify(A,0)\n",
    "    return A\n",
    "A=[8,3,2,7,5,9,23,67,2,8]\n",
    "x=heap_sort(A)\n",
    "print(\"the sorted array is:\",x)"
   ]
  },
  {
   "cell_type": "markdown",
   "metadata": {},
   "source": [
    "# Linear search"
   ]
  },
  {
   "cell_type": "code",
   "execution_count": 5,
   "metadata": {},
   "outputs": [
    {
     "data": {
      "text/plain": [
       "-1"
      ]
     },
     "execution_count": 5,
     "metadata": {},
     "output_type": "execute_result"
    }
   ],
   "source": [
    "def linear_search(l1,n,x):\n",
    "    for i in range(n):\n",
    "        if (l1[i]==x):\n",
    "            return i\n",
    "    return -1\n",
    "l1=[23,65,98,12,4,87]\n",
    "x=76\n",
    "n=len(l1)\n",
    "linear_search(l1,n,x)"
   ]
  },
  {
   "cell_type": "markdown",
   "metadata": {},
   "source": [
    "# sorted Linear search"
   ]
  },
  {
   "cell_type": "code",
   "execution_count": 4,
   "metadata": {},
   "outputs": [
    {
     "data": {
      "text/plain": [
       "4"
      ]
     },
     "execution_count": 4,
     "metadata": {},
     "output_type": "execute_result"
    }
   ],
   "source": [
    "def sorted_linear_search(l1,n,x):\n",
    "    i=0\n",
    "    while(l1[i]<=x):\n",
    "        i+=1\n",
    "        if l1[i]==x:\n",
    "            return i\n",
    "    return -1\n",
    "l1=[4, 12, 23, 65, 87, 98]\n",
    "x=87\n",
    "n=len(l1)\n",
    "sorted_linear_search(l1,n,x)"
   ]
  },
  {
   "cell_type": "markdown",
   "metadata": {},
   "source": [
    "# Binary search"
   ]
  },
  {
   "cell_type": "code",
   "execution_count": 12,
   "metadata": {},
   "outputs": [
    {
     "data": {
      "text/plain": [
       "3"
      ]
     },
     "execution_count": 12,
     "metadata": {},
     "output_type": "execute_result"
    }
   ],
   "source": [
    "def binary_search(l2,l,r,x):\n",
    "    while l<=r:\n",
    "        mid=l+(r-l)//2;\n",
    "        if l2[mid]==x:\n",
    "            return mid\n",
    "        elif l2[mid]<x:\n",
    "            l=mid+1\n",
    "        else:\n",
    "            r=mid-1\n",
    "    return -1\n",
    "l2=[12,24,45,76,82,98]\n",
    "x=76\n",
    "l=0\n",
    "r=len(l2)-1\n",
    "binary_search(l2,l,r,x)"
   ]
  },
  {
   "cell_type": "code",
   "execution_count": null,
   "metadata": {},
   "outputs": [],
   "source": []
  }
 ],
 "metadata": {
  "kernelspec": {
   "display_name": "Python 3",
   "language": "python",
   "name": "python3"
  },
  "language_info": {
   "codemirror_mode": {
    "name": "ipython",
    "version": 3
   },
   "file_extension": ".py",
   "mimetype": "text/x-python",
   "name": "python",
   "nbconvert_exporter": "python",
   "pygments_lexer": "ipython3",
   "version": "3.8.5"
  }
 },
 "nbformat": 4,
 "nbformat_minor": 4
}
