{
  "nbformat": 4,
  "nbformat_minor": 0,
  "metadata": {
    "colab": {
      "provenance": [],
      "authorship_tag": "ABX9TyP9PVXDBRYlUDwNTqH0+Aj2",
      "include_colab_link": true
    },
    "kernelspec": {
      "name": "python3",
      "display_name": "Python 3"
    },
    "language_info": {
      "name": "python"
    }
  },
  "cells": [
    {
      "cell_type": "markdown",
      "metadata": {
        "id": "view-in-github",
        "colab_type": "text"
      },
      "source": [
        "<a href=\"https://colab.research.google.com/github/pararthdave/DSA/blob/main/DSA.ipynb\" target=\"_parent\"><img src=\"https://colab.research.google.com/assets/colab-badge.svg\" alt=\"Open In Colab\"/></a>"
      ]
    },
    {
      "cell_type": "markdown",
      "source": [
        "##### 1. Let us say your expense for every month are listed below,\n",
        "- January - 2200\n",
        "- February - 2350\n",
        "- March - 2600\n",
        "- April - 2130\n",
        "- May - 2190\n",
        "\n",
        "Create a list to store these monthly expenses and using that find out,\n",
        "\n",
        "1. In Feb, how many dollars you spent extra compare to January?\n",
        "2. Find out your total expense in first quarter (first three months) of the year.\n",
        "3. Find out if you spent exactly 2000 dollars in any month\n",
        "4. June month just finished and your expense is 1980 dollar. Add this item to our monthly expense list\n",
        "5. You returned an item that you bought in a month of April and\n",
        "got a refund of 200$. Make a correction to your monthly expense list\n",
        "based on this"
      ],
      "metadata": {
        "id": "iqN_a8yt_0vd"
      }
    },
    {
      "cell_type": "code",
      "execution_count": 24,
      "metadata": {
        "colab": {
          "base_uri": "https://localhost:8080/"
        },
        "id": "lB1xDP-8PGVO",
        "outputId": "b292ca42-b1c1-43a0-d400-bceae3fe4447"
      },
      "outputs": [
        {
          "output_type": "stream",
          "name": "stdout",
          "text": [
            "1.  -150\n",
            "2.  7150\n",
            "3. None\n",
            "4.  {'Jan': 2200, 'Feb': 2350, 'Mar': 2600, 'Apr': 2130, 'May': 2190, 'Jun': 1980}\n",
            "5.  {'Jan': 2200, 'Feb': 2350, 'Mar': 2600, 'Apr': 1930, 'May': 2190, 'Jun': 1980}\n"
          ]
        }
      ],
      "source": [
        "month_expense={\n",
        "    \"Jan\":2200,\n",
        "    \"Feb\":2350,\n",
        "    \"Mar\":2600,\n",
        "    \"Apr\":2130,\n",
        "    \"May\":2190\n",
        "}\n",
        "print(\"1. \",month_expense['Jan']-month_expense['Feb'])\n",
        "print(\"2. \",month_expense['Jan']+month_expense['Feb']+month_expense['Mar'])\n",
        "for i in month_expense:\n",
        "  if month_expense[i]==2000:\n",
        "    print(\"3. \",i)\n",
        "  else:\n",
        "    print(\"3. None\")\n",
        "    break\n",
        "month_expense['Jun']=1980\n",
        "print(\"4. \", month_expense)\n",
        "month_expense['Apr']-=200\n",
        "print(\"5. \", month_expense)"
      ]
    },
    {
      "cell_type": "markdown",
      "source": [
        "##### 2. You have a list of your favourite marvel super heros.\n",
        "\n",
        "heros=['spider man','thor','hulk','iron man','captain america']\n",
        "\n",
        "Using this find out,\n",
        "\n",
        "1. Length of the list\n",
        "2. Add 'black panther' at the end of this list\n",
        "3. You realize that you need to add 'black panther' after 'hulk',\n",
        "   so remove it from the list first and then add it after 'hulk'\n",
        "4. Now you don't like thor and hulk because they get angry easily :)\n",
        "   So you want to remove thor and hulk from list and replace them with doctor strange (because he is cool).\n",
        "   Do that with one line of code.\n",
        "5. Sort the heros list in alphabetical order (Hint. Use dir() functions to list down all functions available in list)"
      ],
      "metadata": {
        "id": "OCPB45DyCcdX"
      }
    },
    {
      "cell_type": "code",
      "source": [
        "heros=['spider man','thor','hulk','iron man','captain america']\n",
        "print(\"1. \",len(heros))\n",
        "heros.append(\"black panther\")\n",
        "print(\"2. \",heros)\n",
        "heros.pop(-1)\n",
        "heros.insert(3,'black panther')\n",
        "print(\"3. \",heros)\n",
        "heros[1:3]=['doctor strange']\n",
        "print(\"4. \",heros)\n",
        "heros.sort()\n",
        "print(\"5. \",heros)"
      ],
      "metadata": {
        "colab": {
          "base_uri": "https://localhost:8080/"
        },
        "id": "ebEq1icUAXkx",
        "outputId": "887bbc80-cec9-45c2-978b-bf455bfe3e85"
      },
      "execution_count": 32,
      "outputs": [
        {
          "output_type": "stream",
          "name": "stdout",
          "text": [
            "1.  5\n",
            "2.  ['spider man', 'thor', 'hulk', 'iron man', 'captain america', 'black panther']\n",
            "3.  ['spider man', 'thor', 'hulk', 'black panther', 'iron man', 'captain america']\n",
            "4.  ['spider man', 'doctor strange', 'black panther', 'iron man', 'captain america']\n",
            "5.  ['black panther', 'captain america', 'doctor strange', 'iron man', 'spider man']\n"
          ]
        }
      ]
    },
    {
      "cell_type": "markdown",
      "source": [
        "##### 3. Create a list of all odd numbers between 1 and a max number. Max number is something you need to take from a user using input() function"
      ],
      "metadata": {
        "id": "zw8R6rELDx43"
      }
    },
    {
      "cell_type": "code",
      "source": [
        "def listfunc(max):\n",
        "  lst=[]\n",
        "  for i in range(max):\n",
        "    if i%2!=0:\n",
        "      lst.append(i)\n",
        "  return lst\n",
        "print(listfunc(23))"
      ],
      "metadata": {
        "colab": {
          "base_uri": "https://localhost:8080/"
        },
        "id": "eiv5ram3DEng",
        "outputId": "90d53063-dd08-4709-baa3-62260c206f71"
      },
      "execution_count": 34,
      "outputs": [
        {
          "output_type": "stream",
          "name": "stdout",
          "text": [
            "[1, 3, 5, 7, 9, 11, 13, 15, 17, 19, 21]\n"
          ]
        }
      ]
    },
    {
      "cell_type": "code",
      "source": [],
      "metadata": {
        "id": "rpeEQCZyECQY"
      },
      "execution_count": null,
      "outputs": []
    }
  ]
}